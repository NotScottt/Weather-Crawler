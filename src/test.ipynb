{
 "cells": [
  {
   "cell_type": "code",
   "execution_count": 6,
   "metadata": {},
   "outputs": [],
   "source": [
    "## Imports\n",
    "from infi.systray import SysTrayIcon\n",
    "import functions\n",
    "\n",
    "menu_options = ((\"Wetter Heute\", None, functions.show_weather), (\"Wetter 7 Tage\", None, functions.return_x_days))\n",
    "\n",
    "if functions.check_weather_ico(functions.strip_item(functions.get_temp(1))) == True:\n",
    "    systray = SysTrayIcon(\"sun.ico\", \"Scott's Wetter\", menu_options)\n",
    "else:\n",
    "    systray = SysTrayIcon(\"rain.ico\", \"Scott's Wetter\", menu_options)\n",
    "\n",
    "systray.start()"
   ]
  }
 ],
 "metadata": {
  "kernelspec": {
   "display_name": "Python 3",
   "language": "python",
   "name": "python3"
  },
  "language_info": {
   "codemirror_mode": {
    "name": "ipython",
    "version": 3
   },
   "file_extension": ".py",
   "mimetype": "text/x-python",
   "name": "python",
   "nbconvert_exporter": "python",
   "pygments_lexer": "ipython3",
   "version": "3.11.2"
  },
  "orig_nbformat": 4
 },
 "nbformat": 4,
 "nbformat_minor": 2
}
